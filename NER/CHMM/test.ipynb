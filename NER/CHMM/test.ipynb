{
 "cells": [
  {
   "cell_type": "code",
   "execution_count": 14,
   "metadata": {
    "collapsed": true
   },
   "outputs": [],
   "source": [
    "line=\"{{product_name:浙江在线杭州}}{{time:4月25日}}讯（记者{{person_name: 施宇翔}} 通讯员 {{person_name:方英}}）毒贩很“时髦”，用{{product_name:微信}}交易毒品。没料想警方也很“潮”，将计就计，一举将其擒获。记者从{{org_name:杭州江干区公安分局}}了解到，经过一个多月的侦查工作，{{org_name:江干区禁毒专案组}}抓获吸贩毒人员5名，缴获“冰毒”400余克，毒资30000余元，扣押汽车一辆。{{location:黑龙江}}籍男子{{person_name:钱某}}长期落脚于宾馆、单身公寓，经常变换住址。他有一辆车，经常半夜驾车来往于{{location:杭州主城区}}的各大宾馆和单身公寓，并且常要活动到{{time:凌晨6、7点钟}}，{{time:白天}}则在家里呼呼大睡。{{person_name:钱某}}不寻常的特征，引起了警方注意。禁毒大队通过侦查，发现{{person_name:钱某}}实际上是在向落脚于宾馆和单身公寓的吸毒人员贩送“冰毒”。\"\n",
    "entity=[\"time\",\"location\",\"person_name\",\"org_name\",\"company_name\",\"product_name\"]\n",
    "import re,jieba\n"
   ]
  },
  {
   "cell_type": "code",
   "execution_count": 15,
   "metadata": {
    "collapsed": false
   },
   "outputs": [
    {
     "name": "stderr",
     "output_type": "stream",
     "text": [
      "Building prefix dict from the default dictionary ...\n"
     ]
    },
    {
     "name": "stderr",
     "output_type": "stream",
     "text": [
      "Dumping model to file cache /var/folders/83/ng05nj_s1_s9842rkp7xn5jc0000gp/T/jieba.cache\n"
     ]
    },
    {
     "name": "stderr",
     "output_type": "stream",
     "text": [
      "Loading model cost 1.737 seconds.\n"
     ]
    },
    {
     "name": "stderr",
     "output_type": "stream",
     "text": [
      "Prefix dict has been built succesfully.\n"
     ]
    },
    {
     "name": "stdout",
     "output_type": "stream",
     "text": [
      "['黑龙江']\n['杭州', '主城区']\n"
     ]
    }
   ],
   "source": [
    "newline=[]\n",
    "loc_entity=[]\n",
    "person_entity=[]\n",
    "org_entity=[]\n",
    "doubelsurname=['欧阳', '太史', '端木', '上官', '司马', '东方', '独孤', '南宫', '万俟', '闻人', '夏侯', '诸葛', '尉迟', '公羊', '赫连', '澹台', '皇甫', '宗政', '濮阳', '公冶', '太叔', '申屠', '公孙', '慕容', '仲孙', '钟离', '长孙', '宇文', '司徒', '鲜于', '司空', '闾丘', '子车', '亓官', '司寇', '巫马', '公西', '颛孙', '壤驷', '公良', '漆雕', '乐正', '宰父', '谷梁', '拓跋', '夹谷', '轩辕', '令狐', '段干', '百里', '呼延', '东郭', '南门', '羊舌', '微生', '公户', '公玉', '公仪', '梁丘', '公仲', '公上', '公门', '公山', '公坚', '左丘', '公伯', '西门', '公祖', '第五', '公乘', '贯丘', '公皙', '南荣', '东里', '东宫', '仲长', '子书', '子桑', '即墨', '达奚', '褚师', '吴铭']\n",
    "\n",
    "def append_entity(entity,newline):\n",
    "    entity=list(jieba.cut(entity))\n",
    "    for ent in entity:\n",
    "        newline.append(ent)\n",
    "    return newline,entity\n",
    "\n",
    "def perEntity(entity):\n",
    "    name=[]\n",
    "    length=len(entity)\n",
    "    if length!=1:\n",
    "        if entity[0] not in doubelsurname and len(entity[0])==2:\n",
    "            name.append(\"C\")\n",
    "            \n",
    "            \n",
    "            \n",
    "            \n",
    "\n",
    "compile=re.compile(\"{{(.*?)}}\")\n",
    "filter_compile=re.compile(\"\\w+:\")\n",
    "for lin in compile.split(line):\n",
    "    if len(lin)==0:\n",
    "        continue\n",
    "    if filter_compile.match(lin):\n",
    "        entity_name,entity=lin.split(\":\")\n",
    "        newline,entity=append_entity(entity,newline)\n",
    "        if entity_name=='location':\n",
    "            for index,ent in enumerate(entity):\n",
    "                \n",
    "                pass\n",
    "        elif entity_name=='person_name':\n",
    "            pass\n",
    "        elif entity_name=='org_name':\n",
    "            pass\n",
    "        elif entity_name=='company_name':\n",
    "            pass\n",
    "        else:\n",
    "            pass\n",
    "    else:\n",
    "        newline,_=append_entity(lin,newline)\n",
    "        \n",
    "\n",
    "        \n",
    "\n",
    "\n",
    "\n"
   ]
  },
  {
   "cell_type": "code",
   "execution_count": 28,
   "metadata": {},
   "outputs": [
    {
     "data": {
      "text/plain": [
       "['张', '东北', '男', '黑红', '姐']"
      ]
     },
     "execution_count": 28,
     "metadata": {},
     "output_type": "execute_result"
    }
   ],
   "source": [
    "list(jieba.cut(\"张东北男黑红姐\"))"
   ]
  },
  {
   "cell_type": "code",
   "execution_count": 16,
   "metadata": {},
   "outputs": [
    {
     "name": "stdout",
     "output_type": "stream",
     "text": [
      "A 0\nA 1\nA 2\n"
     ]
    },
    {
     "name": "stdout",
     "output_type": "stream",
     "text": [
      "A 3\nA 4\n"
     ]
    },
    {
     "name": "stdout",
     "output_type": "stream",
     "text": [
      "A 5\nA 6\n"
     ]
    },
    {
     "name": "stdout",
     "output_type": "stream",
     "text": [
      "A 7\n7\n"
     ]
    },
    {
     "name": "stdout",
     "output_type": "stream",
     "text": [
      "A 8\nA 9\n"
     ]
    },
    {
     "name": "stdout",
     "output_type": "stream",
     "text": [
      "A 10\nA 11\n11\n"
     ]
    },
    {
     "name": "stdout",
     "output_type": "stream",
     "text": [
      "A 12\nA 13\n13\n"
     ]
    },
    {
     "name": "stdout",
     "output_type": "stream",
     "text": [
      "A 14\n"
     ]
    },
    {
     "name": "stdout",
     "output_type": "stream",
     "text": [
      "A 15\n"
     ]
    },
    {
     "name": "stdout",
     "output_type": "stream",
     "text": [
      "15\n"
     ]
    },
    {
     "name": "stdout",
     "output_type": "stream",
     "text": [
      "AAAAAAAAAAAA\na\n"
     ]
    },
    {
     "name": "stdout",
     "output_type": "stream",
     "text": [
      "14\n"
     ]
    },
    {
     "name": "stdout",
     "output_type": "stream",
     "text": [
      "12\n"
     ]
    },
    {
     "name": "stdout",
     "output_type": "stream",
     "text": [
      "10\n"
     ]
    },
    {
     "name": "stdout",
     "output_type": "stream",
     "text": [
      "9\n"
     ]
    },
    {
     "name": "stdout",
     "output_type": "stream",
     "text": [
      "8\n"
     ]
    },
    {
     "name": "stdout",
     "output_type": "stream",
     "text": [
      "6\n"
     ]
    },
    {
     "name": "stdout",
     "output_type": "stream",
     "text": [
      "5\n"
     ]
    },
    {
     "name": "stdout",
     "output_type": "stream",
     "text": [
      "4\n"
     ]
    },
    {
     "name": "stdout",
     "output_type": "stream",
     "text": [
      "3\n"
     ]
    },
    {
     "name": "stdout",
     "output_type": "stream",
     "text": [
      "2\n"
     ]
    },
    {
     "name": "stdout",
     "output_type": "stream",
     "text": [
      "1\n"
     ]
    },
    {
     "name": "stdout",
     "output_type": "stream",
     "text": [
      "0\n"
     ]
    }
   ],
   "source": [
    "from queue import LifoQueue,PriorityQueue,Queue\n",
    "from threading import Thread\n",
    "import time\n",
    "class ThreadPoolManger():\n",
    "    \"\"\"线程池管理器\"\"\"\n",
    "    def __init__(self, thread_num):\n",
    "        # 初始化参数\n",
    "        self.work_queue = Queue()\n",
    "        self.thread_num = thread_num\n",
    "        self.__init_threading_pool(self.thread_num)\n",
    "\n",
    "    def __init_threading_pool(self, thread_num):\n",
    "        self.ts=[]\n",
    "        # 初始化线程池，创建指定数量的线程池\n",
    "        for i in range(thread_num):\n",
    "            thread = ThreadManger(self.work_queue)\n",
    "            thread.start()\n",
    "            self.ts.append(thread)\n",
    "    def add_job(self, func, *args):\n",
    "        # 将任务放入队列，等待线程池阻塞读取，参数是被执行的函数和函数的参数\n",
    "        self.work_queue.put((func, args))\n",
    "    \n",
    "    def join(self):\n",
    "        for t in self.ts:\n",
    "            t.join()\n",
    "            \n",
    "class ThreadManger(Thread):\n",
    "    \"\"\"定义线程类，继承threading.Thread\"\"\"\n",
    "    def __init__(self, work_queue):\n",
    "        Thread.__init__(self)\n",
    "        self.work_queue = work_queue\n",
    "        self.daemon = True\n",
    "\n",
    "    def run(self):\n",
    "        # 启动线程\n",
    "        while True:\n",
    "            target, args = self.work_queue.get()\n",
    "            if target==\"stop\":\n",
    "                break\n",
    "            target(*args)\n",
    "            self.work_queue.task_done()\n",
    "\n",
    "import random\n",
    "queue=LifoQueue()\n",
    "def aa(i):\n",
    "    print(\"A\",i)\n",
    "    queue.put(i)\n",
    "    time.sleep(random.uniform(0,1))\n",
    "\n",
    "\n",
    "def a():\n",
    "    thread_pool = ThreadPoolManger(3)\n",
    "    for i in range(16):\n",
    "        thread_pool.add_job(aa,*(i,))\n",
    "        \n",
    "    thread_pool.add_job(\"stop\",*(0,))\n",
    "    thread_pool.add_job(\"stop\",*(0,))\n",
    "    thread_pool.add_job(\"stop\",*(0,))\n",
    "\n",
    "    thread_pool.join()\n",
    "    print(\"AAAAAAAAAAAA\")\n",
    "    queue.put('a')\n",
    "    \n",
    "def b():\n",
    "    ab=True\n",
    "    while ab:\n",
    "        a=queue.get()\n",
    "        if (a=='a' and queue.empty()) or queue.empty():\n",
    "            print(a)\n",
    "            break\n",
    "        print(a)\n",
    "        time.sleep(0.5)\n",
    "ts=[]\n",
    "\n",
    "time.sleep(1)\n",
    "ts.append(Thread(target=a))\n",
    "ts[-1].start()\n",
    "time.sleep(1)\n",
    "ts.append(Thread(target=b))\n",
    "ts[-1].start()\n",
    "\n",
    "for t in ts:\n",
    "    t.join()\n",
    "    "
   ]
  },
  {
   "cell_type": "code",
   "execution_count": 9,
   "metadata": {},
   "outputs": [],
   "source": []
  },
  {
   "cell_type": "code",
   "execution_count": null,
   "metadata": {},
   "outputs": [],
   "source": []
  }
 ],
 "metadata": {
  "kernelspec": {
   "display_name": "Python 2",
   "language": "python",
   "name": "python2"
  },
  "language_info": {
   "codemirror_mode": {
    "name": "ipython",
    "version": 2
   },
   "file_extension": ".py",
   "mimetype": "text/x-python",
   "name": "python",
   "nbconvert_exporter": "python",
   "pygments_lexer": "ipython2",
   "version": "2.7.6"
  }
 },
 "nbformat": 4,
 "nbformat_minor": 0
}
