{
 "cells": [
  {
   "cell_type": "code",
   "execution_count": 3,
   "metadata": {
    "collapsed": true
   },
   "outputs": [],
   "source": [
    "import tensorflow as tf\n",
    "import numpy as np"
   ]
  },
  {
   "cell_type": "code",
   "execution_count": 27,
   "metadata": {
    "collapsed": true
   },
   "outputs": [
    {
     "name": "stdout",
     "output_type": "stream",
     "text": [
      "[6, 80, 10]\n[6, 82, 10]\n[6, 80, 10]\na [6, 80, 10]\n[6, 80, 10]\n[6, 82, 10]\n[6, 80, 10]\na [6, 80, 10]\n[6, 80, 10]\n[6, 82, 10]\n[6, 80, 10]\na [6, 80, 10]\n[6, 80, 10]\n[6, 82, 10]\n[6, 80, 10]\na [6, 80, 10]\n[6, 80, 10]\n[6, 82, 10]\n"
     ]
    },
    {
     "name": "stdout",
     "output_type": "stream",
     "text": [
      "[6, 80, 10]\na [6, 80, 10]\n[6, 80, 10]\n[6, 82, 10]\n[6, 80, 10]\na [6, 80, 10]\n[6, 80, 10]\n"
     ]
    }
   ],
   "source": [
    "emb_encoder=a1\n",
    "print(emb_encoder.shape.as_list())\n",
    "\n",
    "\n",
    "encoder_outputs=[emb_encoder]\n",
    "PAD_emb=tf.nn.embedding_lookup(emb,[1])\n",
    "\n",
    "for enc_layer in range(6):\n",
    "    with tf.variable_scope(\"encoder_%d\"%enc_layer):\n",
    "        emb_encoder=tf.pad(emb_encoder,paddings=[[0,0],[1,1],[0,0]],constant_values=PAD_emb)\n",
    "        print(emb_encoder.shape.as_list())\n",
    "        encoder_shape=emb_encoder.shape.as_list()\n",
    "\n",
    "        emb_encoder=tf.reshape(emb_encoder,shape=[encoder_shape[0],encoder_shape[1],encoder_shape[2],1])# batch_size,seq_len,emb_dim,1\n",
    "\n",
    "        filtersize=[3,10,1,20]\n",
    "        filter=tf.Variable(initial_value=tf.truncated_normal(filtersize,stddev=0.01),name=\"filter\")\n",
    "        \n",
    "        emb_encoder=tf.nn.conv2d(emb_encoder,filter=filter,strides=[1,1,1,1],padding=\"VALID\",dilations=[1,1,1,1])\n",
    "        emb_encoder=tf.reshape(emb_encoder,shape=[6,-1,10*2])\n",
    "        A,B=tf.split(emb_encoder,2,axis=2)\n",
    "        attn=tf.multiply(A,tf.nn.softmax(B))\n",
    "\n",
    "        print(attn.shape.as_list())\n",
    "\n",
    "        emb_encoder=attn+encoder_outputs[-1]\n",
    "        a=tf.nn.softmax(emb_encoder,axis=1)\n",
    "        print(\"a\",a.shape.as_list())\n",
    "        encoder_outputs.append(emb_encoder)\n",
    "        print(emb_encoder.shape.as_list())\n",
    "\n"
   ]
  },
  {
   "cell_type": "code",
   "execution_count": 6,
   "metadata": {},
   "outputs": [
    {
     "name": "stdout",
     "output_type": "stream",
     "text": [
      "[[  0.   1.   2.   3.   4.   5.   6.   7.]\n [  0.   0.   0.   0.   0.   0.   0.   0.]\n [ 16.  17.  18.  19.  20.  21.  22.  23.]\n [ 24.  25.  26.  27.  28.  29.  30.  31.]\n [  0.   0.   0.   0.   0.   0.   0.   0.]\n [  0.   0.   0.   0.   0.   0.   0.   0.]]\n[[ 0.57735026  0.          0.57735026  0.57735026  0.          0.        ]\n [ 0.57735026  0.          0.57735026  0.57735026  0.          0.        ]]\n"
     ]
    }
   ],
   "source": [
    "a=np.array(range(48))\n",
    "a=a.reshape([6,8])\n",
    "a=tf.constant(a,dtype=tf.float32)\n",
    "b=tf.constant([1,0,1,1,0,0],dtype=tf.float32,shape=[6,1])\n",
    "g=tf.constant([[1,0,1,1,0,0],[1,0,1,1,0,0]],dtype=tf.float32,shape=[2,6])\n",
    "\n",
    "c=tf.multiply(b,a)\n",
    "init=tf.global_variables_initializer()\n",
    "sess=tf.Session()\n",
    "sess.run(init)\n",
    "d,f=sess.run([c,tf.nn.l2_normalize(g,1)])\n",
    "print(d)\n",
    "print(f)"
   ]
  },
  {
   "cell_type": "code",
   "execution_count": 10,
   "metadata": {},
   "outputs": [
    {
     "name": "stdout",
     "output_type": "stream",
     "text": [
      "[10, 10]\n"
     ]
    }
   ],
   "source": [
    "import tensorflow as tf \n",
    "a = tf.constant(1)\n",
    "n = tf.constant(10)\n",
    "\n",
    "def cond(a, n):\n",
    "    return  a< n\n",
    "def body(a,n):\n",
    "    a = a + 1\n",
    "    return a,n\n",
    "\n",
    "a, n = tf.while_loop(cond, body, [a, n])\n",
    "with tf.Session() as sess:\n",
    "    tf.global_variables_initializer().run()\n",
    "    res = sess.run([a,n])\n",
    "    print(res)\n"
   ]
  },
  {
   "cell_type": "code",
   "execution_count": 1,
   "metadata": {},
   "outputs": [
    {
     "name": "stdout",
     "output_type": "stream",
     "text": [
      "[ 0.0278181  -0.0079008  -0.02868299  0.00018432]\n"
     ]
    },
    {
     "ename": "TypeError",
     "evalue": "step() missing 1 required positional argument: 'action'",
     "traceback": [
      "\u001b[0;31m---------------------------------------------------------------------------\u001b[0m",
      "\u001b[0;31mTypeError\u001b[0m                                 Traceback (most recent call last)",
      "\u001b[0;32m<ipython-input-1-8e9ee5ddcbc2>\u001b[0m in \u001b[0;36m<module>\u001b[0;34m()\u001b[0m\n\u001b[1;32m      4\u001b[0m \u001b[0mprint\u001b[0m\u001b[0;34m(\u001b[0m\u001b[0mobservation\u001b[0m\u001b[0;34m)\u001b[0m\u001b[0;34m\u001b[0m\u001b[0m\n\u001b[1;32m      5\u001b[0m \u001b[0menv\u001b[0m\u001b[0;34m.\u001b[0m\u001b[0mrender\u001b[0m\u001b[0;34m(\u001b[0m\u001b[0;34m)\u001b[0m\u001b[0;34m\u001b[0m\u001b[0m\n\u001b[0;32m----> 6\u001b[0;31m \u001b[0menv\u001b[0m\u001b[0;34m.\u001b[0m\u001b[0mstep\u001b[0m\u001b[0;34m(\u001b[0m\u001b[0;34m)\u001b[0m\u001b[0;34m\u001b[0m\u001b[0m\n\u001b[0m",
      "\u001b[0;31mTypeError\u001b[0m: step() missing 1 required positional argument: 'action'"
     ],
     "output_type": "error"
    }
   ],
   "source": [
    "import gym\n",
    "env = gym.make('CartPole-v0')\n",
    "observation = env.reset()\n",
    "print(observation)\n",
    "env.render()\n",
    "env.step()\n"
   ]
  },
  {
   "cell_type": "code",
   "execution_count": null,
   "metadata": {},
   "outputs": [],
   "source": []
  }
 ],
 "metadata": {
  "kernelspec": {
   "display_name": "Python 2",
   "language": "python",
   "name": "python2"
  },
  "language_info": {
   "codemirror_mode": {
    "name": "ipython",
    "version": 2
   },
   "file_extension": ".py",
   "mimetype": "text/x-python",
   "name": "python",
   "nbconvert_exporter": "python",
   "pygments_lexer": "ipython2",
   "version": "2.7.6"
  }
 },
 "nbformat": 4,
 "nbformat_minor": 0
}
