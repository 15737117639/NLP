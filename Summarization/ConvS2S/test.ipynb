{
 "cells": [
  {
   "cell_type": "code",
   "execution_count": 2,
   "metadata": {
    "collapsed": true
   },
   "outputs": [],
   "source": [
    "import tensorflow as tf\n",
    "import numpy as np"
   ]
  },
  {
   "cell_type": "code",
   "execution_count": 2,
   "metadata": {
    "collapsed": true
   },
   "outputs": [
    {
     "ename": "NameError",
     "evalue": "name 'a1' is not defined",
     "traceback": [
      "\u001b[0;31m---------------------------------------------------------------------------\u001b[0m",
      "\u001b[0;31mNameError\u001b[0m                                 Traceback (most recent call last)",
      "\u001b[0;32m<ipython-input-2-556e306ce387>\u001b[0m in \u001b[0;36m<module>\u001b[0;34m()\u001b[0m\n\u001b[0;32m----> 1\u001b[0;31m \u001b[0memb_encoder\u001b[0m\u001b[0;34m=\u001b[0m\u001b[0ma1\u001b[0m\u001b[0;34m\u001b[0m\u001b[0m\n\u001b[0m\u001b[1;32m      2\u001b[0m \u001b[0mprint\u001b[0m\u001b[0;34m(\u001b[0m\u001b[0memb_encoder\u001b[0m\u001b[0;34m.\u001b[0m\u001b[0mshape\u001b[0m\u001b[0;34m.\u001b[0m\u001b[0mas_list\u001b[0m\u001b[0;34m(\u001b[0m\u001b[0;34m)\u001b[0m\u001b[0;34m)\u001b[0m\u001b[0;34m\u001b[0m\u001b[0m\n\u001b[1;32m      3\u001b[0m \u001b[0;34m\u001b[0m\u001b[0m\n\u001b[1;32m      4\u001b[0m \u001b[0;34m\u001b[0m\u001b[0m\n\u001b[1;32m      5\u001b[0m \u001b[0mencoder_outputs\u001b[0m\u001b[0;34m=\u001b[0m\u001b[0;34m[\u001b[0m\u001b[0memb_encoder\u001b[0m\u001b[0;34m]\u001b[0m\u001b[0;34m\u001b[0m\u001b[0m\n",
      "\u001b[0;31mNameError\u001b[0m: name 'a1' is not defined"
     ],
     "output_type": "error"
    }
   ],
   "source": [
    "emb_encoder=a1\n",
    "print(emb_encoder.shape.as_list())\n",
    "\n",
    "\n",
    "encoder_outputs=[emb_encoder]\n",
    "PAD_emb=tf.nn.embedding_lookup(emb,[1])\n",
    "\n",
    "for enc_layer in range(6):\n",
    "    with tf.variable_scope(\"encoder_%d\"%enc_layer):\n",
    "        emb_encoder=tf.pad(emb_encoder,paddings=[[0,0],[1,1],[0,0]],constant_values=PAD_emb)\n",
    "        print(emb_encoder.shape.as_list())\n",
    "        encoder_shape=emb_encoder.shape.as_list()\n",
    "\n",
    "        emb_encoder=tf.reshape(emb_encoder,shape=[encoder_shape[0],encoder_shape[1],encoder_shape[2],1])# batch_size,seq_len,emb_dim,1\n",
    "\n",
    "        filtersize=[3,10,1,20]\n",
    "        filter=tf.Variable(initial_value=tf.truncated_normal(filtersize,stddev=0.01),name=\"filter\")\n",
    "        \n",
    "        emb_encoder=tf.nn.conv2d(emb_encoder,filter=filter,strides=[1,1,1,1],padding=\"VALID\",dilations=[1,1,1,1])\n",
    "        emb_encoder=tf.reshape(emb_encoder,shape=[6,-1,10*2])\n",
    "        A,B=tf.split(emb_encoder,2,axis=2)\n",
    "        attn=tf.multiply(A,tf.nn.softmax(B))\n",
    "\n",
    "        print(attn.shape.as_list())\n",
    "\n",
    "        emb_encoder=attn+encoder_outputs[-1]\n",
    "        a=tf.nn.softmax(emb_encoder,axis=1)\n",
    "        print(\"a\",a.shape.as_list())\n",
    "        encoder_outputs.append(emb_encoder)\n",
    "        print(emb_encoder.shape.as_list())\n",
    "\n"
   ]
  },
  {
   "cell_type": "code",
   "execution_count": 6,
   "metadata": {},
   "outputs": [
    {
     "name": "stdout",
     "output_type": "stream",
     "text": [
      "[[  0.   1.   2.   3.   4.   5.   6.   7.]\n [  0.   0.   0.   0.   0.   0.   0.   0.]\n [ 16.  17.  18.  19.  20.  21.  22.  23.]\n [ 24.  25.  26.  27.  28.  29.  30.  31.]\n [  0.   0.   0.   0.   0.   0.   0.   0.]\n [  0.   0.   0.   0.   0.   0.   0.   0.]]\n[[ 0.57735026  0.          0.57735026  0.57735026  0.          0.        ]\n [ 0.57735026  0.          0.57735026  0.57735026  0.          0.        ]]\n"
     ]
    }
   ],
   "source": [
    "a=np.array(range(48))\n",
    "a=a.reshape([6,8])\n",
    "a=tf.constant(a,dtype=tf.float32)\n",
    "b=tf.constant([1,0,1,1,0,0],dtype=tf.float32,shape=[6,1])\n",
    "g=tf.constant([[1,0,1,1,0,0],[1,0,1,1,0,0]],dtype=tf.float32,shape=[2,6])\n",
    "\n",
    "c=tf.multiply(b,a)\n",
    "init=tf.global_variables_initializer()\n",
    "sess=tf.Session()\n",
    "sess.run(init)\n",
    "d,f=sess.run([c,tf.nn.l2_normalize(g,1)])\n",
    "print(d)\n",
    "print(f)"
   ]
  },
  {
   "cell_type": "code",
   "execution_count": 10,
   "metadata": {},
   "outputs": [
    {
     "name": "stdout",
     "output_type": "stream",
     "text": [
      "[10, 10]\n"
     ]
    }
   ],
   "source": [
    "import tensorflow as tf \n",
    "a = tf.constant(1)\n",
    "n = tf.constant(10)\n",
    "\n",
    "def cond(a, n):\n",
    "    return  a< n\n",
    "def body(a,n):\n",
    "    a = a + 1\n",
    "    return a,n\n",
    "\n",
    "a, n = tf.while_loop(cond, body, [a, n])\n",
    "with tf.Session() as sess:\n",
    "    tf.global_variables_initializer().run()\n",
    "    res = sess.run([a,n])\n",
    "    print(res)\n"
   ]
  },
  {
   "cell_type": "code",
   "execution_count": 5,
   "metadata": {},
   "outputs": [],
   "source": [
    "#词汇表中对应的主题词\n",
    "a=tf.constant([[11,1],[12,2],[13,3],[14,4],[15,5],[16,6]],dtype=tf.int32)\n",
    "# 词汇表\n",
    "# b=tf.constant([[1,11,13],[3,16,6],[5,6,2]],dtype=tf.int32)\n",
    "b=tf.constant([[0,13],[1,16],[0,8]],dtype=tf.int32)\n",
    "\n",
    "emb=tf.get_variable(name='embb',shape=[20,5],dtype=tf.float32)\n",
    "topic_emb=tf.get_variable(name='topic',shape=[10,5],dtype=tf.float32)"
   ]
  },
  {
   "cell_type": "code",
   "execution_count": 9,
   "metadata": {
    "collapsed": false
   },
   "outputs": [
    {
     "name": "stdout",
     "output_type": "stream",
     "text": [
      "Tensor(\"Reshape_11:0\", shape=(?, 2, 5), dtype=float32)\n(3, 2, 5)\n[[[ 0.03646359 -0.35648412 -0.35819608 -0.07392752  0.20122376]\n  [-0.05676717  0.4516198   0.05581731 -0.23014435  0.16458923]]\n\n [[ 0.3693814   0.21581456  0.08683088  0.21898589 -0.24347787]\n  [-0.15781456 -0.41223702 -0.14436388  0.50856084  0.02451092]]\n\n [[ 0.03646359 -0.35648412 -0.35819608 -0.07392752  0.20122376]\n  [-0.35203528  0.20256558 -0.05344453  0.36638007 -0.4004116 ]]]\n------\n[[ 0.47056848  0.09352803 -0.5762763  -0.31750795 -0.03069645]\n [-0.06277215  0.14072305 -0.11286432 -0.34434542  0.1345641 ]\n [-0.26202917  0.26201773  0.03084528  0.26555747  0.4731199 ]\n [-0.05676717  0.4516198   0.05581731 -0.23014435  0.16458923]\n [ 0.07173115  0.22346711 -0.17219594  0.37617642 -0.02289522]\n [-0.08737779  0.6083922  -0.29488206 -0.02280551 -0.5336372 ]\n [-0.15781456 -0.41223702 -0.14436388  0.50856084  0.02451092]\n [-0.5874706  -0.34369203  0.6219401   0.57480067 -0.40176803]\n [-0.06785178 -0.3215666  -0.52732897  0.51174706 -0.14568675]\n [ 0.35125154 -0.04075211  0.3922636  -0.4869716  -0.16431886]]\n------\n[[ 0.03646359 -0.35648412 -0.35819608 -0.07392752  0.20122376]\n [ 0.3693814   0.21581456  0.08683088  0.21898589 -0.24347787]\n [ 0.45079002 -0.4328917   0.47274086  0.23966864  0.02217111]\n [ 0.17704996 -0.27135706 -0.45131886  0.10506067 -0.4051286 ]\n [ 0.27580693 -0.15607     0.09965864  0.3467711  -0.04237264]\n [ 0.14697143 -0.2187328   0.19845375 -0.44085002  0.0910885 ]\n [-0.1802752  -0.317564    0.313453   -0.1986016  -0.24302842]\n [ 0.09426841  0.2035493   0.37022457 -0.4019833   0.33127925]\n [-0.35203528  0.20256558 -0.05344453  0.36638007 -0.4004116 ]\n [-0.193564    0.3839427  -0.36379504 -0.35445097  0.09323856]\n [-0.10772744  0.33668897 -0.12554833  0.29334572  0.12975946]\n [-0.44262913  0.06120709 -0.20993069  0.18300357  0.02608982]\n [-0.05727208  0.36008987  0.4566888   0.41327628 -0.15772146]\n [-0.06523079 -0.09301254  0.13766548  0.08205876  0.28841278]\n [ 0.17446122  0.40276763  0.04527709 -0.48423368  0.3818843 ]\n [ 0.03440437 -0.3604474   0.07520321  0.46313325 -0.15613961]\n [ 0.05846301 -0.18585795 -0.45513335  0.08143106 -0.13831419]\n [-0.1095179   0.07772109 -0.21210271 -0.21157351  0.12185565]\n [ 0.08170202  0.32285568  0.11302158  0.2067397   0.47976723]\n [ 0.12248442  0.2979807  -0.43938464  0.46709725  0.10768738]]\n"
     ]
    }
   ],
   "source": [
    "a_shape=a.get_shape()[0]\n",
    "b_shape=b.get_shape()\n",
    "size=b_shape[0]*b_shape[1]\n",
    "\n",
    "def look_step(g,index,single,k1):\n",
    "    t=tf.cond(tf.equal(single,a[k1,0]),\n",
    "            lambda :(True,k1),\n",
    "            lambda :(False,-1))\n",
    "    return tf.logical_or(g,t[0]),tf.maximum(index,t[1]),single,k1+1\n",
    "    \n",
    "def _look(single):\n",
    "    g=False\n",
    "    k1=0\n",
    "    index=-1\n",
    "    g,index,*_=tf.while_loop(\n",
    "        cond=lambda g,index,single,k1:k1<a_shape,\n",
    "        body=look_step,\n",
    "        loop_vars=[g,index,single,k1]\n",
    "    )\n",
    "    return g,index\n",
    "\n",
    "k=tf.constant(1)\n",
    "def loop_step(k,topic,matrix):\n",
    "    g,index=_look(topic[k])\n",
    "    matr=tf.cond(g,\n",
    "                lambda :tf.gather(topic_emb,[a[index,1]]),\n",
    "                lambda :tf.gather(emb,[topic[k]]))\n",
    "    matr=tf.reshape(matr,[1,1,-1])\n",
    "    matrix=tf.concat([matrix,matr],0)\n",
    "\n",
    "    return k+1,topic,matrix\n",
    "\n",
    "g=tf.reshape(b,[-1])\n",
    "# matrix=tf.Variable([[]])\n",
    "matrix=tf.nn.embedding_lookup(emb,[0])\n",
    "matrix=tf.reshape(matrix,[1,1,-1])\n",
    "_,_,matrix=tf.while_loop(\n",
    "    cond=lambda k,b,*_:k<size,\n",
    "    body=loop_step,\n",
    "    loop_vars=[k,g,matrix],\n",
    "    shape_invariants=[k.get_shape(),tf.TensorShape([None]),tf.TensorShape([None,1,5])]\n",
    "\n",
    ")\n",
    "\n",
    "matrix=tf.reshape(matrix,shape=[-1,b_shape[1],5])\n",
    "print(matrix)\n",
    "init=tf.global_variables_initializer()\n",
    "sess=tf.Session()\n",
    "sess.run(init)\n",
    "\n",
    "matrix,topics,emm=sess.run([matrix,topic_emb,emb])\n",
    "print(np.array(matrix).shape)\n",
    "print(matrix)\n",
    "\n",
    "print('------')\n",
    "print(topics)\n",
    "print('------')\n",
    "print(emm)"
   ]
  },
  {
   "cell_type": "code",
   "execution_count": 23,
   "metadata": {},
   "outputs": [],
   "source": [
    ""
   ]
  },
  {
   "cell_type": "code",
   "execution_count": 4,
   "metadata": {},
   "outputs": [
    {
     "name": "stdout",
     "output_type": "stream",
     "text": [
      "[ 0.36802626 -0.19462073 -0.8859022  -0.5048751   0.5068357 ]\n[ 0.36802626  0.11136688 -0.19462073 -0.11375644 -0.8859022  -0.4814587\n -0.5048751   0.9559712   0.5068357   1.625209  ]\n"
     ]
    }
   ],
   "source": [
    "i = tf.constant(0)\n",
    "l = tf.Variable([])\n",
    "array = tf.Variable(tf.random_normal([10]))\n",
    "def body(i, l):                                               \n",
    "    temp = tf.gather(array,i)\n",
    "    l = tf.concat([l, [temp]], 0)\n",
    "    return i+2, l\n",
    "def cond(i,l):\n",
    "   return i < 10\n",
    "index, list_vals = tf.while_loop(cond, body, [i, l],shape_invariants=[i.get_shape(),\n",
    "                                                   tf.TensorShape([None])])\n",
    "sess = tf.Session()\n",
    "sess.run(tf.global_variables_initializer())\n",
    "a1,b1=sess.run([list_vals,array])\n",
    "print(a1)\n",
    "print(b1)\n"
   ]
  },
  {
   "cell_type": "code",
   "execution_count": 26,
   "metadata": {},
   "outputs": [
    {
     "name": "stdout",
     "output_type": "stream",
     "text": [
      "Tensor(\"concat_4:0\", shape=(2, 5), dtype=float32)\n[[-0.54136574  0.03651583 -0.27027145  0.06238627  0.16824466]\n [-0.44653267 -0.12659621  0.02578914 -0.01459128 -0.09342879]\n [-0.17026371 -0.5374914  -0.05861431 -0.17510164  0.20600271]\n [ 0.00965261  0.06737155  0.6241546  -0.27840954  0.5559228 ]\n [ 0.12267345 -0.08674705  0.35988408 -0.60730344  0.43452126]\n [ 0.12683946  0.10327429 -0.03427905  0.5521496  -0.35221782]\n [-0.1526998   0.1997881  -0.23401058 -0.34670693 -0.10232884]\n [ 0.44554812  0.0498898  -0.5839828  -0.12379533  0.1324259 ]\n [-0.06297046 -0.27502432 -0.03852886 -0.01656979  0.60367066]\n [ 0.19230837 -0.38089323 -0.04958206  0.37696415  0.34378386]]\n______\n[[-0.54136574  0.03651583 -0.27027145  0.06238627  0.16824466]\n [-0.44653267 -0.12659621  0.02578914 -0.01459128 -0.09342879]]\n"
     ]
    }
   ],
   "source": [
    "gh1=tf.gather(emb,[1])\n",
    "gh2=tf.gather(emb,[0])\n",
    "gh=tf.concat([gh2,gh1],axis=0)\n",
    "print(gh)\n",
    "a1,b1=sess.run([emb,gh])\n"
   ]
  },
  {
   "cell_type": "code",
   "execution_count": 25,
   "metadata": {},
   "outputs": [
    {
     "name": "stdout",
     "output_type": "stream",
     "text": [
      "Tensor(\"ArgMax_20:0\", shape=(2, 3), dtype=int64)\n[[3 3 3]\n [3 3 3]]\n"
     ]
    }
   ],
   "source": [
    "\n",
    "a=np.array(range(24))\n",
    "\n",
    "a = tf.reshape(tf.constant(a),shape=[2,3,4])\n",
    "aa=tf.argmax(a,-1)\n",
    "print(aa)\n",
    "print(sess.run(tf.concat(aa,1)))"
   ]
  },
  {
   "cell_type": "code",
   "execution_count": 109,
   "metadata": {},
   "outputs": [],
   "source": []
  },
  {
   "cell_type": "code",
   "execution_count": null,
   "metadata": {},
   "outputs": [],
   "source": []
  }
 ],
 "metadata": {
  "kernelspec": {
   "display_name": "Python 2",
   "language": "python",
   "name": "python2"
  },
  "language_info": {
   "codemirror_mode": {
    "name": "ipython",
    "version": 2
   },
   "file_extension": ".py",
   "mimetype": "text/x-python",
   "name": "python",
   "nbconvert_exporter": "python",
   "pygments_lexer": "ipython2",
   "version": "2.7.6"
  }
 },
 "nbformat": 4,
 "nbformat_minor": 0
}
