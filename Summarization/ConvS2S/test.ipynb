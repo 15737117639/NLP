{
 "cells": [
  {
   "cell_type": "code",
   "execution_count": 3,
   "metadata": {
    "collapsed": true
   },
   "outputs": [],
   "source": [
    "import tensorflow as tf\n",
    "import numpy as np"
   ]
  },
  {
   "cell_type": "code",
   "execution_count": 2,
   "metadata": {
    "collapsed": true
   },
   "outputs": [
    {
     "ename": "NameError",
     "evalue": "name 'a1' is not defined",
     "traceback": [
      "\u001b[0;31m---------------------------------------------------------------------------\u001b[0m",
      "\u001b[0;31mNameError\u001b[0m                                 Traceback (most recent call last)",
      "\u001b[0;32m<ipython-input-2-556e306ce387>\u001b[0m in \u001b[0;36m<module>\u001b[0;34m()\u001b[0m\n\u001b[0;32m----> 1\u001b[0;31m \u001b[0memb_encoder\u001b[0m\u001b[0;34m=\u001b[0m\u001b[0ma1\u001b[0m\u001b[0;34m\u001b[0m\u001b[0m\n\u001b[0m\u001b[1;32m      2\u001b[0m \u001b[0mprint\u001b[0m\u001b[0;34m(\u001b[0m\u001b[0memb_encoder\u001b[0m\u001b[0;34m.\u001b[0m\u001b[0mshape\u001b[0m\u001b[0;34m.\u001b[0m\u001b[0mas_list\u001b[0m\u001b[0;34m(\u001b[0m\u001b[0;34m)\u001b[0m\u001b[0;34m)\u001b[0m\u001b[0;34m\u001b[0m\u001b[0m\n\u001b[1;32m      3\u001b[0m \u001b[0;34m\u001b[0m\u001b[0m\n\u001b[1;32m      4\u001b[0m \u001b[0;34m\u001b[0m\u001b[0m\n\u001b[1;32m      5\u001b[0m \u001b[0mencoder_outputs\u001b[0m\u001b[0;34m=\u001b[0m\u001b[0;34m[\u001b[0m\u001b[0memb_encoder\u001b[0m\u001b[0;34m]\u001b[0m\u001b[0;34m\u001b[0m\u001b[0m\n",
      "\u001b[0;31mNameError\u001b[0m: name 'a1' is not defined"
     ],
     "output_type": "error"
    }
   ],
   "source": [
    "emb_encoder=a1\n",
    "print(emb_encoder.shape.as_list())\n",
    "\n",
    "\n",
    "encoder_outputs=[emb_encoder]\n",
    "PAD_emb=tf.nn.embedding_lookup(emb,[1])\n",
    "\n",
    "for enc_layer in range(6):\n",
    "    with tf.variable_scope(\"encoder_%d\"%enc_layer):\n",
    "        emb_encoder=tf.pad(emb_encoder,paddings=[[0,0],[1,1],[0,0]],constant_values=PAD_emb)\n",
    "        print(emb_encoder.shape.as_list())\n",
    "        encoder_shape=emb_encoder.shape.as_list()\n",
    "\n",
    "        emb_encoder=tf.reshape(emb_encoder,shape=[encoder_shape[0],encoder_shape[1],encoder_shape[2],1])# batch_size,seq_len,emb_dim,1\n",
    "\n",
    "        filtersize=[3,10,1,20]\n",
    "        filter=tf.Variable(initial_value=tf.truncated_normal(filtersize,stddev=0.01),name=\"filter\")\n",
    "        \n",
    "        emb_encoder=tf.nn.conv2d(emb_encoder,filter=filter,strides=[1,1,1,1],padding=\"VALID\",dilations=[1,1,1,1])\n",
    "        emb_encoder=tf.reshape(emb_encoder,shape=[6,-1,10*2])\n",
    "        A,B=tf.split(emb_encoder,2,axis=2)\n",
    "        attn=tf.multiply(A,tf.nn.softmax(B))\n",
    "\n",
    "        print(attn.shape.as_list())\n",
    "\n",
    "        emb_encoder=attn+encoder_outputs[-1]\n",
    "        a=tf.nn.softmax(emb_encoder,axis=1)\n",
    "        print(\"a\",a.shape.as_list())\n",
    "        encoder_outputs.append(emb_encoder)\n",
    "        print(emb_encoder.shape.as_list())\n",
    "\n"
   ]
  },
  {
   "cell_type": "code",
   "execution_count": 6,
   "metadata": {},
   "outputs": [
    {
     "name": "stdout",
     "output_type": "stream",
     "text": [
      "[[  0.   1.   2.   3.   4.   5.   6.   7.]\n [  0.   0.   0.   0.   0.   0.   0.   0.]\n [ 16.  17.  18.  19.  20.  21.  22.  23.]\n [ 24.  25.  26.  27.  28.  29.  30.  31.]\n [  0.   0.   0.   0.   0.   0.   0.   0.]\n [  0.   0.   0.   0.   0.   0.   0.   0.]]\n[[ 0.57735026  0.          0.57735026  0.57735026  0.          0.        ]\n [ 0.57735026  0.          0.57735026  0.57735026  0.          0.        ]]\n"
     ]
    }
   ],
   "source": [
    "a=np.array(range(48))\n",
    "a=a.reshape([6,8])\n",
    "a=tf.constant(a,dtype=tf.float32)\n",
    "b=tf.constant([1,0,1,1,0,0],dtype=tf.float32,shape=[6,1])\n",
    "g=tf.constant([[1,0,1,1,0,0],[1,0,1,1,0,0]],dtype=tf.float32,shape=[2,6])\n",
    "\n",
    "c=tf.multiply(b,a)\n",
    "init=tf.global_variables_initializer()\n",
    "sess=tf.Session()\n",
    "sess.run(init)\n",
    "d,f=sess.run([c,tf.nn.l2_normalize(g,1)])\n",
    "print(d)\n",
    "print(f)"
   ]
  },
  {
   "cell_type": "code",
   "execution_count": 10,
   "metadata": {},
   "outputs": [
    {
     "name": "stdout",
     "output_type": "stream",
     "text": [
      "[10, 10]\n"
     ]
    }
   ],
   "source": [
    "import tensorflow as tf \n",
    "a = tf.constant(1)\n",
    "n = tf.constant(10)\n",
    "\n",
    "def cond(a, n):\n",
    "    return  a< n\n",
    "def body(a,n):\n",
    "    a = a + 1\n",
    "    return a,n\n",
    "\n",
    "a, n = tf.while_loop(cond, body, [a, n])\n",
    "with tf.Session() as sess:\n",
    "    tf.global_variables_initializer().run()\n",
    "    res = sess.run([a,n])\n",
    "    print(res)\n"
   ]
  },
  {
   "cell_type": "code",
   "execution_count": null,
   "metadata": {},
   "outputs": [
    {
     "name": "stdout",
     "output_type": "stream",
     "text": [
      "[array([[615, 170],\n       [ 84, 315],\n       [168,  69],\n       [ 23,  45],\n       [390,  78]], dtype=int32)]\n"
     ]
    }
   ],
   "source": [
    "\n",
    "a=tf.constant([[123,34],[12,45],[56,23],[23,45],[65,13]],dtype=tf.int32)\n",
    "b=tf.constant([[5],[7],[3],[1],[6]],tf.int32)\n",
    "tf.global_variables_initializer()\n",
    "sess=tf.Session()\n",
    "v=sess.run([a*b])\n",
    "print(v)\n"
   ]
  },
  {
   "cell_type": "code",
   "execution_count": 7,
   "metadata": {},
   "outputs": [
    {
     "name": "stdout",
     "output_type": "stream",
     "text": [
      "5\n"
     ]
    }
   ],
   "source": [
    "class A():\n",
    "    def __init__(self,a,b):\n",
    "        self.a=a\n",
    "        self.b=b\n",
    "    \n",
    "    def __call__(self, rouge):\n",
    "        if \"a\"==rouge:\n",
    "            return self.a+self.b\n",
    "        elif \"b\" ==rouge:\n",
    "            return self.a*self.b\n",
    "\n",
    "a=A(3,2)\n",
    "print(a(\"a\"))\n"
   ]
  },
  {
   "cell_type": "code",
   "execution_count": 43,
   "metadata": {},
   "outputs": [
    {
     "name": "stdout",
     "output_type": "stream",
     "text": [
      "Tensor(\"Reshape_17:0\", shape=(3, 4), dtype=int32)\nTensor(\"Cast_7:0\", shape=(1,), dtype=float32)\n[5. 5.]\n"
     ]
    }
   ],
   "source": [
    "a=tf.Variable([])\n",
    "table = tf.TensorArray(tf.int32, 12, clear_after_read=False, element_shape=[])\n",
    "table=table.write(1,5)\n",
    "table = tf.reshape(table.stack(), [3, 4])\n",
    "print(table)\n",
    "value=table[0,1]\n",
    "value=tf.reshape(value,shape=[1])\n",
    "value=tf.cast(value,tf.float32)\n",
    "print(value)\n",
    "a=tf.concat([a,value],0)\n",
    "a=tf.concat([a,value],0)\n",
    "init=tf.global_variables_initializer()\n",
    "sess=tf.Session()\n",
    "sess.run(init)\n",
    "print(sess.run(a))"
   ]
  },
  {
   "cell_type": "code",
   "execution_count": 51,
   "metadata": {},
   "outputs": [],
   "source": []
  },
  {
   "cell_type": "code",
   "execution_count": 8,
   "metadata": {},
   "outputs": [],
   "source": [
    "#词汇表中对应的主题词\n",
    "a=tf.constant([[11,1],[12,2],[13,3],[14,4],[15,5],[16,6]],dtype=tf.int32)\n",
    "# 词汇表\n",
    "# b=tf.constant([[1,11,13],[3,16,6],[5,6,2]],dtype=tf.int32)\n",
    "b=tf.constant([[0,13],[1,16],[0,8]],dtype=tf.int32)\n",
    "\n",
    "emb=tf.get_variable(name='embedding',shape=[20,5],dtype=tf.float32)\n",
    "topic_emb=tf.get_variable(name='topics',shape=[10,5],dtype=tf.float32)"
   ]
  },
  {
   "cell_type": "code",
   "execution_count": 16,
   "metadata": {},
   "outputs": [
    {
     "name": "stdout",
     "output_type": "stream",
     "text": [
      "<tensorflow.python.ops.tensor_array_ops.TensorArray object at 0x1826e0d780>\nTensor(\"Reshape_22:0\", shape=(?, 2, 5), dtype=float32)\n(3, 2, 5)\n[[[ 0.35722104  0.45313326  0.12768927 -0.16868928 -0.09986734]\n  [-0.55134577  0.4147771  -0.10022849 -0.6070153   0.56907314]]\n\n [[ 0.46408054 -0.4238541   0.36293575 -0.12446699 -0.10133284]\n  [ 0.5513373   0.34395307 -0.38107568  0.4736032   0.36719465]]\n\n [[ 0.35722104  0.45313326  0.12768927 -0.16868928 -0.09986734]\n  [ 0.15290251  0.23949358 -0.0418323   0.2823467  -0.29186422]]]\n------\n[[-0.34714526  0.5505025   0.37950164  0.07570928 -0.26319355]\n [-0.31659645  0.5465613   0.38790613  0.34655297 -0.31055024]\n [-0.5464219   0.5692685   0.53653044 -0.18863422  0.17824364]\n [-0.55134577  0.4147771  -0.10022849 -0.6070153   0.56907314]\n [ 0.14669704 -0.01556051 -0.5932383  -0.5241651   0.513138  ]\n [-0.26796243  0.29083097 -0.07593936  0.43689567 -0.54201716]\n [ 0.5513373   0.34395307 -0.38107568  0.4736032   0.36719465]\n [-0.2004965   0.62154144  0.19659013 -0.10501605  0.39323908]\n [ 0.40405625 -0.5109581   0.4514472  -0.0817731  -0.53253734]\n [-0.37159663  0.18779278 -0.5888702  -0.11495501  0.20142204]]\n------\n[[ 0.35722104  0.45313326  0.12768927 -0.16868928 -0.09986734]\n [ 0.46408054 -0.4238541   0.36293575 -0.12446699 -0.10133284]\n [ 0.396031    0.29184332  0.4590576  -0.3342317   0.15861103]\n [ 0.27867392 -0.1496796  -0.13279277  0.06232265  0.09884509]\n [-0.06978261  0.27595034 -0.17503962 -0.44890296 -0.27068555]\n [ 0.17303953 -0.4867165  -0.43609133  0.04574433  0.14592329]\n [ 0.12254295  0.21576819 -0.25987342  0.07927069  0.42489436]\n [ 0.31283757 -0.40207836  0.35251442 -0.15130338 -0.36733526]\n [ 0.15290251  0.23949358 -0.0418323   0.2823467  -0.29186422]\n [ 0.18475804 -0.39619896 -0.0961386   0.45752916  0.26610473]\n [-0.08658442 -0.36353666 -0.32917154  0.28137782  0.42164192]\n [ 0.48276642 -0.1250427  -0.0350484   0.29153964 -0.4434687 ]\n [-0.28552076 -0.06992149 -0.30948663  0.14652857 -0.41729772]\n [-0.07590228  0.45897368  0.12471029  0.03429618  0.14530614]\n [ 0.03316078  0.23916957 -0.45262575  0.44172874 -0.29396755]\n [-0.01435307  0.43861678 -0.40828258  0.2702681   0.40600684]\n [ 0.2730482   0.10264501 -0.08125842  0.09790006  0.34681538]\n [-0.268088   -0.39774948  0.22304389 -0.28966486  0.31679055]\n [ 0.06220916 -0.48402217  0.23762086  0.39203468 -0.45800197]\n [ 0.28296426 -0.41037354 -0.40557304 -0.2868113  -0.4758002 ]]\n"
     ]
    }
   ],
   "source": [
    "a_shape=a.get_shape()[0]\n",
    "b_shape=b.get_shape()\n",
    "size=b_shape[0]*b_shape[1]\n",
    "\n",
    "def look_step(g,index,single,k1):\n",
    "    t=tf.cond(tf.equal(single,a[k1,0]),\n",
    "            lambda :(True,k1),\n",
    "            lambda :(False,-1))\n",
    "    return tf.logical_or(g,t[0]),tf.maximum(index,t[1]),single,k1+1\n",
    "    \n",
    "def _look(single):\n",
    "    g=False\n",
    "    k1=0\n",
    "    index=-1\n",
    "    g,index,*_=tf.while_loop(\n",
    "        cond=lambda g,index,single,k1:k1<a_shape,\n",
    "        body=look_step,\n",
    "        loop_vars=[g,index,single,k1]\n",
    "    )\n",
    "    return g,index\n",
    "\n",
    "\n",
    "def loop_step(k,topic,matrix):\n",
    "    g,index=_look(topic[k])\n",
    "    matr=tf.cond(g,\n",
    "                lambda :tf.gather(topic_emb,[a[index,1]]),\n",
    "                lambda :tf.gather(emb,[topic[k]]))\n",
    "    matr=tf.reshape(matr,[1,1,-1])\n",
    "    # matrix=tf.concat([matrix,matr],0)\n",
    "    matrix=matrix.write(k,matr)\n",
    "    print(matrix)\n",
    "    return k+1,topic,matrix\n",
    "\n",
    "k=tf.constant(0)\n",
    "g=tf.reshape(b,[-1])\n",
    "# matrix=tf.Variable([[]])\n",
    "matrix=tf.nn.embedding_lookup(emb,[0])\n",
    "matrix=tf.reshape(matrix,[1,1,-1])\n",
    "loop_vars=[tf.constant(0),tf.reshape(b,[-1]),tf.TensorArray(tf.float32,size=size)]\n",
    "_,_,matrix1=tf.while_loop(\n",
    "    cond=lambda k,b,*_:k<size,\n",
    "    body=loop_step,\n",
    "    loop_vars=loop_vars,\n",
    "    # shape_invariants=[k.get_shape(),tf.TensorShape([None]),tf.TensorShape([None,1,5])]\n",
    "\n",
    ")\n",
    "\n",
    "matrix1=tf.reshape(matrix1.stack(),shape=[-1,b_shape[1],5])\n",
    "print(matrix1)\n",
    "init=tf.global_variables_initializer()\n",
    "sess=tf.Session()\n",
    "sess.run(init)\n",
    "\n",
    "matrix1,topics,emm=sess.run([matrix1,topic_emb,emb])\n",
    "print(np.array(matrix1).shape)\n",
    "print(matrix1)\n",
    "\n",
    "print('------')\n",
    "print(topics)\n",
    "print('------')\n",
    "print(emm)"
   ]
  },
  {
   "cell_type": "code",
   "execution_count": 46,
   "metadata": {},
   "outputs": [
    {
     "name": "stdout",
     "output_type": "stream",
     "text": [
      "[-0.12611371  0.08051919  2.6596558  -2.5261319   1.4858145 ]\n[-0.12611371 -1.0288202   0.08051919 -0.40016657  2.6596558   0.4868604\n -2.5261319   0.5280155   1.4858145  -0.3094576 ]\n"
     ]
    }
   ],
   "source": [
    "i = tf.constant(0)\n",
    "l = tf.Variable([])\n",
    "array = tf.Variable(tf.random_normal([10]))\n",
    "def body(i, l):                                               \n",
    "    temp = tf.gather(array,i)\n",
    "    l = tf.concat([l, [temp]], 0)\n",
    "    return i+2, l\n",
    "def cond(i,l):\n",
    "   return i < 10\n",
    "index, list_vals = tf.while_loop(cond, body, [i, l],shape_invariants=[i.get_shape(),\n",
    "                                                   tf.TensorShape([None])])\n",
    "sess = tf.Session()\n",
    "sess.run(tf.global_variables_initializer())\n",
    "a1,b1=sess.run([list_vals,array])\n",
    "print(a1)\n",
    "print(b1)"
   ]
  },
  {
   "cell_type": "code",
   "execution_count": 47,
   "metadata": {},
   "outputs": [
    {
     "name": "stdout",
     "output_type": "stream",
     "text": [
      "Tensor(\"concat_18:0\", shape=(2, 5), dtype=float32)\n"
     ]
    }
   ],
   "source": [
    "gh1=tf.gather(emb,[1])\n",
    "gh2=tf.gather(emb,[0])\n",
    "gh=tf.concat([gh2,gh1],axis=0)\n",
    "print(gh)\n",
    "a1,b1=sess.run([emb,gh])"
   ]
  },
  {
   "cell_type": "code",
   "execution_count": 20,
   "metadata": {
    "collapsed": false
   },
   "outputs": [
    {
     "name": "stdout",
     "output_type": "stream",
     "text": [
      "Tensor(\"Const_17:0\", shape=(4, 3, 3), dtype=int32)\nTensor(\"ExpandDims:0\", shape=(4, 1, 3), dtype=int32)\n[[[ 7  7  7]]\n\n [[ 8  8  8]]\n\n [[ 9 13  9]]\n\n [[ 9  9  9]]]\n[[[ 7  7  7]]\n\n [[ 8  8  8]]\n\n [[ 9 13  9]]\n\n [[ 9  9  9]]]\n"
     ]
    }
   ],
   "source": [
    "t = tf.constant([[[1, 1, 1], [2, 2, 2], [7, 7, 7]],\n",
    "                 [[3, 3, 3], [4, 4, 4], [8, 8, 8]],\n",
    "                 [[5, 5, 5], [6, 12, 6], [9, 13, 9]],\n",
    "                 [[5,12, 5], [6, 6, 6], [9, 9, 9]]])\n",
    "\n",
    "# z1 = tf.strided_slice(t, [1], [-1], [1])\n",
    "z2 = tf.strided_slice(t, [0, 2], [4, 3], [1, 1])\n",
    "z3 = tf.strided_slice(t, [1, 0, 1], [-1, 2, 3], [1, 1, 1])\n",
    "z4=tf.expand_dims(z2[:,-1,:],1)\n",
    "print(t)\n",
    "print(z4)\n",
    "with tf.Session() as sess:\n",
    "    # print(sess.run(z1))\n",
    "    print(sess.run(z2))\n",
    "    print(sess.run(z4))\n"
   ]
  },
  {
   "cell_type": "code",
   "execution_count": 26,
   "metadata": {},
   "outputs": [
    {
     "name": "stdout",
     "output_type": "stream",
     "text": [
      "Tensor(\"Max_1:0\", shape=(3, 4), dtype=float32)\n[array([[ 4.,  9., 14., 19.],\n       [24., 29., 34., 39.],\n       [44., 49., 54., 59.]], dtype=float32), array([[4, 4, 4, 4],\n       [4, 4, 4, 4],\n       [4, 4, 4, 4]])]\n"
     ]
    }
   ],
   "source": [
    "s=np.array(range(60))\n",
    "\n",
    "a=tf.constant(s,dtype=tf.float32,shape=[3,4,5])\n",
    "c=tf.reduce_max(a,-1)\n",
    "print(c)\n",
    "d=tf.argmax(a,-1)\n",
    "init=tf.global_variables_initializer()\n",
    "sess=tf.Session()\n",
    "print(sess.run([c,d]))\n"
   ]
  },
  {
   "cell_type": "code",
   "execution_count": 25,
   "metadata": {},
   "outputs": [
    {
     "name": "stdout",
     "output_type": "stream",
     "text": [
      "Tensor(\"Const_41:0\", shape=(3, 1), dtype=float32)\nTensor(\"Reshape_25:0\", shape=(?, 1), dtype=float32)\n[array([[ 0.84428495],\n       [ 0.5440706 ],\n       [-0.28402066],\n       [ 0.84428495],\n       [ 0.5440706 ],\n       [-0.28402066],\n       [ 0.84428495],\n       [ 0.5440706 ],\n       [-0.28402066],\n       [ 0.84428495],\n       [ 0.5440706 ],\n       [-0.28402066],\n       [ 0.84428495],\n       [ 0.5440706 ],\n       [-0.28402066]], dtype=float32), array([[-0.15571503],\n       [-0.45592943],\n       [-1.2840207 ]], dtype=float32)]\n"
     ]
    }
   ],
   "source": [
    "i0 = tf.constant(0)\n",
    "m0 = tf.ones([3, 1])\n",
    "# x = tf.get_variable(name='q', shape=(3,1), initializer=tf.zeros_initializer)\n",
    "# loop = 5\n",
    "# def _cond(i0, m0):\n",
    "#   return tf.less(i0, loop-1)\n",
    "# \n",
    "# def _res(i0, m0):\n",
    "#   n = tf.ones([3, 1]) + x\n",
    "#   m0 = m0.write(i0,n)\n",
    "#   return i0+1, m0\n",
    "\n",
    "# loop_vars=[tf.constant(0,tf.int32),tf.TensorArray(m0.dtype,size=loop)]\n",
    "# _, m0 = tf.while_loop(\n",
    "#     _cond, \n",
    "#     _res, \n",
    "#     loop_vars=loop_vars,\n",
    "#     # shape_invariants=[i0.get_shape(), tf.TensorShape([None, 1])]\n",
    "# )\n",
    "# \n",
    "# m0=tf.reshape(m0.stack(),[-1,1])\n",
    "# opt = tf.train.AdagradOptimizer(1)\n",
    "# \n",
    "# sess=tf.Session()\n",
    "# grad = opt.compute_gradients(m0)\n",
    "# sess.run(tf.global_variables_initializer())\n",
    "# \n",
    "# print(sess.run(grad))\n",
    "\n",
    "def mystack(x, n):\n",
    "    loop_vars = [\n",
    "        tf.constant(0, tf.int32),\n",
    "        tf.TensorArray(x.dtype, size=n),\n",
    "    ]\n",
    "    _, fx = tf.while_loop(\n",
    "        lambda j, _: j < n,\n",
    "        lambda j, result: (j + 1, result.write(j, 1+x)),\n",
    "        loop_vars= loop_vars\n",
    "    )\n",
    "    return tf.reshape(fx.stack(), (-1,1) )\n",
    " \n",
    "x = tf.constant(np.random.randn(3,1), tf.float32 )\n",
    "print(x)\n",
    "loop = 5\n",
    "m = mystack(x,loop)\n",
    "print(m)\n",
    " \n",
    "with tf.Session() as sess:\n",
    "    print(sess.run([m,x]))"
   ]
  },
  {
   "cell_type": "code",
   "execution_count": 12,
   "metadata": {},
   "outputs": [],
   "source": []
  },
  {
   "cell_type": "code",
   "execution_count": null,
   "metadata": {},
   "outputs": [],
   "source": []
  }
 ],
 "metadata": {
  "kernelspec": {
   "display_name": "Python 2",
   "language": "python",
   "name": "python2"
  },
  "language_info": {
   "codemirror_mode": {
    "name": "ipython",
    "version": 2
   },
   "file_extension": ".py",
   "mimetype": "text/x-python",
   "name": "python",
   "nbconvert_exporter": "python",
   "pygments_lexer": "ipython2",
   "version": "2.7.6"
  }
 },
 "nbformat": 4,
 "nbformat_minor": 0
}
