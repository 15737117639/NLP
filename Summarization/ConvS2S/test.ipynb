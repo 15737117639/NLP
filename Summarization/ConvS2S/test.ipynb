{
 "cells": [
  {
   "cell_type": "code",
   "execution_count": 14,
   "metadata": {
    "collapsed": true
   },
   "outputs": [],
   "source": [
    "import tensorflow as tf\n",
    "import numpy as np"
   ]
  },
  {
   "cell_type": "code",
   "execution_count": 27,
   "metadata": {
    "collapsed": true
   },
   "outputs": [
    {
     "name": "stdout",
     "output_type": "stream",
     "text": [
      "[6, 80, 10]\n[6, 82, 10]\n[6, 80, 10]\na [6, 80, 10]\n[6, 80, 10]\n[6, 82, 10]\n[6, 80, 10]\na [6, 80, 10]\n[6, 80, 10]\n[6, 82, 10]\n[6, 80, 10]\na [6, 80, 10]\n[6, 80, 10]\n[6, 82, 10]\n[6, 80, 10]\na [6, 80, 10]\n[6, 80, 10]\n[6, 82, 10]\n"
     ]
    },
    {
     "name": "stdout",
     "output_type": "stream",
     "text": [
      "[6, 80, 10]\na [6, 80, 10]\n[6, 80, 10]\n[6, 82, 10]\n[6, 80, 10]\na [6, 80, 10]\n[6, 80, 10]\n"
     ]
    }
   ],
   "source": [
    "emb_encoder=a1\n",
    "print(emb_encoder.shape.as_list())\n",
    "\n",
    "\n",
    "encoder_outputs=[emb_encoder]\n",
    "PAD_emb=tf.nn.embedding_lookup(emb,[1])\n",
    "\n",
    "for enc_layer in range(6):\n",
    "    with tf.variable_scope(\"encoder_%d\"%enc_layer):\n",
    "        emb_encoder=tf.pad(emb_encoder,paddings=[[0,0],[1,1],[0,0]],constant_values=PAD_emb)\n",
    "        print(emb_encoder.shape.as_list())\n",
    "        encoder_shape=emb_encoder.shape.as_list()\n",
    "\n",
    "        emb_encoder=tf.reshape(emb_encoder,shape=[encoder_shape[0],encoder_shape[1],encoder_shape[2],1])# batch_size,seq_len,emb_dim,1\n",
    "\n",
    "        filtersize=[3,10,1,20]\n",
    "        filter=tf.Variable(initial_value=tf.truncated_normal(filtersize,stddev=0.01),name=\"filter\")\n",
    "        \n",
    "        emb_encoder=tf.nn.conv2d(emb_encoder,filter=filter,strides=[1,1,1,1],padding=\"VALID\",dilations=[1,1,1,1])\n",
    "        emb_encoder=tf.reshape(emb_encoder,shape=[6,-1,10*2])\n",
    "        A,B=tf.split(emb_encoder,2,axis=2)\n",
    "        attn=tf.multiply(A,tf.nn.softmax(B))\n",
    "\n",
    "        print(attn.shape.as_list())\n",
    "\n",
    "        emb_encoder=attn+encoder_outputs[-1]\n",
    "        a=tf.nn.softmax(emb_encoder,axis=1)\n",
    "        print(\"a\",a.shape.as_list())\n",
    "        encoder_outputs.append(emb_encoder)\n",
    "        print(emb_encoder.shape.as_list())\n",
    "\n"
   ]
  },
  {
   "cell_type": "code",
   "execution_count": 6,
   "metadata": {},
   "outputs": [
    {
     "name": "stdout",
     "output_type": "stream",
     "text": [
      "[[  0.   1.   2.   3.   4.   5.   6.   7.]\n [  0.   0.   0.   0.   0.   0.   0.   0.]\n [ 16.  17.  18.  19.  20.  21.  22.  23.]\n [ 24.  25.  26.  27.  28.  29.  30.  31.]\n [  0.   0.   0.   0.   0.   0.   0.   0.]\n [  0.   0.   0.   0.   0.   0.   0.   0.]]\n[[ 0.57735026  0.          0.57735026  0.57735026  0.          0.        ]\n [ 0.57735026  0.          0.57735026  0.57735026  0.          0.        ]]\n"
     ]
    }
   ],
   "source": [
    "a=np.array(range(48))\n",
    "a=a.reshape([6,8])\n",
    "a=tf.constant(a,dtype=tf.float32)\n",
    "b=tf.constant([1,0,1,1,0,0],dtype=tf.float32,shape=[6,1])\n",
    "g=tf.constant([[1,0,1,1,0,0],[1,0,1,1,0,0]],dtype=tf.float32,shape=[2,6])\n",
    "\n",
    "c=tf.multiply(b,a)\n",
    "init=tf.global_variables_initializer()\n",
    "sess=tf.Session()\n",
    "sess.run(init)\n",
    "d,f=sess.run([c,tf.nn.l2_normalize(g,1)])\n",
    "print(d)\n",
    "print(f)"
   ]
  },
  {
   "cell_type": "code",
   "execution_count": 10,
   "metadata": {},
   "outputs": [
    {
     "name": "stdout",
     "output_type": "stream",
     "text": [
      "[10, 10]\n"
     ]
    }
   ],
   "source": [
    "import tensorflow as tf \n",
    "a = tf.constant(1)\n",
    "n = tf.constant(10)\n",
    "\n",
    "def cond(a, n):\n",
    "    return  a< n\n",
    "def body(a,n):\n",
    "    a = a + 1\n",
    "    return a,n\n",
    "\n",
    "a, n = tf.while_loop(cond, body, [a, n])\n",
    "with tf.Session() as sess:\n",
    "    tf.global_variables_initializer().run()\n",
    "    res = sess.run([a,n])\n",
    "    print(res)\n"
   ]
  },
  {
   "cell_type": "code",
   "execution_count": 52,
   "metadata": {},
   "outputs": [
    {
     "name": "stdout",
     "output_type": "stream",
     "text": [
      "[array([[615, 170],\n       [ 84, 315],\n       [168,  69],\n       [ 23,  45],\n       [390,  78]], dtype=int32)]\n"
     ]
    }
   ],
   "source": [
    "\n",
    "a=tf.constant([[123,34],[12,45],[56,23],[23,45],[65,13]],dtype=tf.int32)\n",
    "b=tf.constant([[5],[7],[3],[1],[6]],tf.int32)\n",
    "tf.global_variables_initializer()\n",
    "sess=tf.Session()\n",
    "v=sess.run([a*b])\n",
    "print(v)\n"
   ]
  },
  {
   "cell_type": "code",
   "execution_count": 7,
   "metadata": {},
   "outputs": [
    {
     "name": "stdout",
     "output_type": "stream",
     "text": [
      "5\n"
     ]
    }
   ],
   "source": [
    "class A():\n",
    "    def __init__(self,a,b):\n",
    "        self.a=a\n",
    "        self.b=b\n",
    "    \n",
    "    def __call__(self, rouge):\n",
    "        if \"a\"==rouge:\n",
    "            return self.a+self.b\n",
    "        elif \"b\" ==rouge:\n",
    "            return self.a*self.b\n",
    "\n",
    "a=A(3,2)\n",
    "print(a(\"a\"))\n",
    "\n",
    "\n",
    "        "
   ]
  },
  {
   "cell_type": "code",
   "execution_count": 43,
   "metadata": {},
   "outputs": [
    {
     "name": "stdout",
     "output_type": "stream",
     "text": [
      "Tensor(\"Reshape_17:0\", shape=(3, 4), dtype=int32)\nTensor(\"Cast_7:0\", shape=(1,), dtype=float32)\n[5. 5.]\n"
     ]
    }
   ],
   "source": [
    "a=tf.Variable([])\n",
    "table = tf.TensorArray(tf.int32, 12, clear_after_read=False, element_shape=[])\n",
    "table=table.write(1,5)\n",
    "table = tf.reshape(table.stack(), [3, 4])\n",
    "print(table)\n",
    "value=table[0,1]\n",
    "value=tf.reshape(value,shape=[1])\n",
    "value=tf.cast(value,tf.float32)\n",
    "print(value)\n",
    "a=tf.concat([a,value],0)\n",
    "a=tf.concat([a,value],0)\n",
    "init=tf.global_variables_initializer()\n",
    "sess=tf.Session()\n",
    "sess.run(init)\n",
    "print(sess.run(a))"
   ]
  },
  {
   "cell_type": "code",
   "execution_count": 51,
   "metadata": {},
   "outputs": [],
   "source": []
  },
  {
   "cell_type": "code",
   "execution_count": 50,
   "metadata": {},
   "outputs": [],
   "source": [
    "#词汇表中对应的主题词\n",
    "a=tf.constant([[11,1],[12,2],[13,3],[14,4],[15,5],[16,6]],dtype=tf.int32)\n",
    "# 词汇表\n",
    "# b=tf.constant([[1,11,13],[3,16,6],[5,6,2]],dtype=tf.int32)\n",
    "b=tf.constant([[0,13],[1,16],[0,8]],dtype=tf.int32)\n",
    "\n",
    "emb=tf.get_variable(name='embedding',shape=[20,5],dtype=tf.float32)\n",
    "topic_emb=tf.get_variable(name='topics',shape=[10,5],dtype=tf.float32)"
   ]
  },
  {
   "cell_type": "code",
   "execution_count": 45,
   "metadata": {},
   "outputs": [
    {
     "name": "stdout",
     "output_type": "stream",
     "text": [
      "Tensor(\"Reshape_21:0\", shape=(?, 2, 5), dtype=float32)\n"
     ]
    },
    {
     "name": "stdout",
     "output_type": "stream",
     "text": [
      "(3, 2, 5)\n[[[ 0.03026214  0.28801247  0.40880844 -0.43810743  0.21062544]\n  [-0.60613453 -0.28839117 -0.56303763  0.296337   -0.00902414]]\n\n [[-0.3305534   0.01545647  0.0331274  -0.4084127   0.23705521]\n  [-0.26574537  0.5975633   0.01666689  0.01336354 -0.39244384]]\n\n [[ 0.03026214  0.28801247  0.40880844 -0.43810743  0.21062544]\n  [-0.3024444  -0.1936149   0.07234898 -0.2342152   0.3469616 ]]]\n------\n[[ 0.6007559  -0.4593113   0.09159327 -0.478335   -0.09639078]\n [ 0.31148964  0.02132171 -0.08892065  0.5141186   0.58552164]\n [ 0.27487475 -0.47561824  0.16658598 -0.09853393  0.60222894]\n [-0.60613453 -0.28839117 -0.56303763  0.296337   -0.00902414]\n [-0.14825061  0.19814873  0.543827    0.4740948  -0.52177584]\n [ 0.5068485  -0.46798617 -0.38487118 -0.14322299 -0.6246252 ]\n [-0.26574537  0.5975633   0.01666689  0.01336354 -0.39244384]\n [ 0.6091011  -0.27581295  0.5293644  -0.6094516   0.4994821 ]\n [ 0.14774007  0.19275963 -0.33168998 -0.06496447  0.06964922]\n [ 0.41561526  0.29858875 -0.03645009  0.07009917 -0.4514609 ]]\n------\n[[ 0.03026214  0.28801247  0.40880844 -0.43810743  0.21062544]\n [-0.3305534   0.01545647  0.0331274  -0.4084127   0.23705521]\n [-0.31847507  0.28896543 -0.42899415 -0.23623762  0.2805154 ]\n [-0.39840463  0.04175594  0.07630804 -0.4000557  -0.11951077]\n [-0.1685462   0.06138918  0.26671758  0.3367509  -0.13288972]\n [-0.17607507  0.04962984  0.27714345  0.03538093 -0.3866484 ]\n [-0.21589923 -0.19198039  0.21962366 -0.47134718  0.47612175]\n [-0.18237528  0.31686237  0.1401467  -0.07450673  0.19254783]\n [-0.3024444  -0.1936149   0.07234898 -0.2342152   0.3469616 ]\n [-0.03380799 -0.02930343 -0.0442425  -0.4251068   0.44749913]\n [ 0.30212203  0.32830057 -0.18674585  0.37289372  0.4830666 ]\n [-0.22074679 -0.01323178  0.3026285  -0.42509302  0.3111702 ]\n [ 0.19830689  0.3583443  -0.41755915 -0.35060763  0.2431188 ]\n [ 0.3426223   0.28157362 -0.3803874  -0.06178224 -0.2253206 ]\n [ 0.08304021  0.32542858 -0.11440343 -0.2534691  -0.22153461]\n [ 0.3937293   0.37713298 -0.15001154  0.21652493 -0.47568843]\n [ 0.48229048 -0.12452856 -0.42515528  0.2819468  -0.10903493]\n [ 0.04835072 -0.35486317  0.2155647  -0.29012296  0.06383643]\n [ 0.26201567 -0.10121509 -0.22701526  0.36869588 -0.12095001]\n [-0.45342222 -0.1354695  -0.45721906 -0.16982877  0.10499957]]\n"
     ]
    }
   ],
   "source": [
    "a_shape=a.get_shape()[0]\n",
    "b_shape=b.get_shape()\n",
    "size=b_shape[0]*b_shape[1]\n",
    "\n",
    "def look_step(g,index,single,k1):\n",
    "    t=tf.cond(tf.equal(single,a[k1,0]),\n",
    "            lambda :(True,k1),\n",
    "            lambda :(False,-1))\n",
    "    return tf.logical_or(g,t[0]),tf.maximum(index,t[1]),single,k1+1\n",
    "    \n",
    "def _look(single):\n",
    "    g=False\n",
    "    k1=0\n",
    "    index=-1\n",
    "    g,index,*_=tf.while_loop(\n",
    "        cond=lambda g,index,single,k1:k1<a_shape,\n",
    "        body=look_step,\n",
    "        loop_vars=[g,index,single,k1]\n",
    "    )\n",
    "    return g,index\n",
    "\n",
    "k=tf.constant(1)\n",
    "def loop_step(k,topic,matrix):\n",
    "    g,index=_look(topic[k])\n",
    "    matr=tf.cond(g,\n",
    "                lambda :tf.gather(topic_emb,[a[index,1]]),\n",
    "                lambda :tf.gather(emb,[topic[k]]))\n",
    "    matr=tf.reshape(matr,[1,1,-1])\n",
    "    matrix=tf.concat([matrix,matr],0)\n",
    "\n",
    "    return k+1,topic,matrix\n",
    "\n",
    "g=tf.reshape(b,[-1])\n",
    "# matrix=tf.Variable([[]])\n",
    "matrix=tf.nn.embedding_lookup(emb,[0])\n",
    "matrix=tf.reshape(matrix,[1,1,-1])\n",
    "_,_,matrix=tf.while_loop(\n",
    "    cond=lambda k,b,*_:k<size,\n",
    "    body=loop_step,\n",
    "    loop_vars=[k,g,matrix],\n",
    "    shape_invariants=[k.get_shape(),tf.TensorShape([None]),tf.TensorShape([None,1,5])]\n",
    "\n",
    ")\n",
    "\n",
    "matrix=tf.reshape(matrix,shape=[-1,b_shape[1],5])\n",
    "print(matrix)\n",
    "init=tf.global_variables_initializer()\n",
    "sess=tf.Session()\n",
    "sess.run(init)\n",
    "\n",
    "matrix,topics,emm=sess.run([matrix,topic_emb,emb])\n",
    "print(np.array(matrix).shape)\n",
    "print(matrix)\n",
    "\n",
    "print('------')\n",
    "print(topics)\n",
    "print('------')\n",
    "print(emm)"
   ]
  },
  {
   "cell_type": "code",
   "execution_count": 46,
   "metadata": {},
   "outputs": [
    {
     "name": "stdout",
     "output_type": "stream",
     "text": [
      "[-0.12611371  0.08051919  2.6596558  -2.5261319   1.4858145 ]\n[-0.12611371 -1.0288202   0.08051919 -0.40016657  2.6596558   0.4868604\n -2.5261319   0.5280155   1.4858145  -0.3094576 ]\n"
     ]
    }
   ],
   "source": [
    "i = tf.constant(0)\n",
    "l = tf.Variable([])\n",
    "array = tf.Variable(tf.random_normal([10]))\n",
    "def body(i, l):                                               \n",
    "    temp = tf.gather(array,i)\n",
    "    l = tf.concat([l, [temp]], 0)\n",
    "    return i+2, l\n",
    "def cond(i,l):\n",
    "   return i < 10\n",
    "index, list_vals = tf.while_loop(cond, body, [i, l],shape_invariants=[i.get_shape(),\n",
    "                                                   tf.TensorShape([None])])\n",
    "sess = tf.Session()\n",
    "sess.run(tf.global_variables_initializer())\n",
    "a1,b1=sess.run([list_vals,array])\n",
    "print(a1)\n",
    "print(b1)"
   ]
  },
  {
   "cell_type": "code",
   "execution_count": 47,
   "metadata": {},
   "outputs": [
    {
     "name": "stdout",
     "output_type": "stream",
     "text": [
      "Tensor(\"concat_18:0\", shape=(2, 5), dtype=float32)\n"
     ]
    }
   ],
   "source": [
    "gh1=tf.gather(emb,[1])\n",
    "gh2=tf.gather(emb,[0])\n",
    "gh=tf.concat([gh2,gh1],axis=0)\n",
    "print(gh)\n",
    "a1,b1=sess.run([emb,gh])"
   ]
  },
  {
   "cell_type": "code",
   "execution_count": 51,
   "metadata": {},
   "outputs": [],
   "source": [
    ""
   ]
  },
  {
   "cell_type": "code",
   "execution_count": null,
   "metadata": {},
   "outputs": [],
   "source": []
  }
 ],
 "metadata": {
  "kernelspec": {
   "display_name": "Python 2",
   "language": "python",
   "name": "python2"
  },
  "language_info": {
   "codemirror_mode": {
    "name": "ipython",
    "version": 2
   },
   "file_extension": ".py",
   "mimetype": "text/x-python",
   "name": "python",
   "nbconvert_exporter": "python",
   "pygments_lexer": "ipython2",
   "version": "2.7.6"
  }
 },
 "nbformat": 4,
 "nbformat_minor": 0
}
